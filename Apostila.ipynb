{
 "cells": [
  {
   "attachments": {},
   "cell_type": "markdown",
   "metadata": {},
   "source": [
    "# Apresentação Jupyter\n",
    "\n",
    "**Deixando em negrito**\n",
    "```\n",
    "def soma(n1, n2):\n",
    "    return n1 + n2\n",
    "```\n",
    "```python\n",
    "def soma (n1, n2):\n",
    "    return n1 + n2\n",
    "```"
   ]
  },
  {
   "attachments": {},
   "cell_type": "markdown",
   "metadata": {},
   "source": [
    "## Parâmetros Default - Subalgoritimos \n",
    "\n",
    "Este tipo de parâmetro serve para assumir um valor padrão no parâmetro, quando não definimos um.\n",
    "\n",
    "**Sintaxe**\n",
    "```\n",
    "def nome_subalgoritimo (parametros = valor_default) -> tipo_retorno:\n",
    "    corpo_subalgoritimo\n",
    "    return valor\n",
    "``` \n",
    "\n",
    "**Exemplo**\n",
    "Este procedimento exibe uma saudação a partir do nome enviado por parâmetro:"
   ]
  },
  {
   "cell_type": "code",
   "execution_count": 109,
   "metadata": {},
   "outputs": [
    {
     "name": "stdout",
     "output_type": "stream",
     "text": [
      "Bom dia Usuário\n",
      "Boa tarde Edson\n",
      "Bom dia Usuário\n",
      "Bom dia Maria\n"
     ]
    }
   ],
   "source": [
    "def saudacao(mensagem: str = \"Bom dia\", nome: str = \"Usuário\") -> None:\n",
    "    print(f\"{mensagem} {nome}\")\n",
    "\n",
    "saudacao(\"Bom dia\")\n",
    "saudacao(\"Boa tarde\", \"Edson\")\n",
    "saudacao()\n",
    "saudacao(nome = \"Maria\")"
   ]
  },
  {
   "attachments": {},
   "cell_type": "markdown",
   "metadata": {},
   "source": [
    "**Exercício**\n",
    "Fazer uma função que retorne o maior entre 3 números passados por parâmetros. Os valores padroes são 1, 2 e 3"
   ]
  },
  {
   "cell_type": "code",
   "execution_count": 110,
   "metadata": {},
   "outputs": [
    {
     "name": "stdout",
     "output_type": "stream",
     "text": [
      "9\n",
      "3\n",
      "56\n"
     ]
    }
   ],
   "source": [
    "def maior3n(n1: float = 1, n2: float = 2, n3: float = 3) -> float:\n",
    "    maior = n1\n",
    "    if n2 > maior:\n",
    "        maior = n2\n",
    "    if n3 > maior:\n",
    "        maior = n3\n",
    "    return maior\n",
    "\n",
    "print(maior3n(5,8,9))\n",
    "print(maior3n())\n",
    "print(maior3n(n2 = 56))"
   ]
  },
  {
   "attachments": {},
   "cell_type": "markdown",
   "metadata": {},
   "source": [
    "## Parâmetros do tipo *args\n",
    "O parâmetro do tipo *args permite que passemos um número não definido de parâmetros/\n",
    "<br>\n",
    "**Sintaxe:**\n",
    "```\n",
    "def nome_subalgoritimo (*args) -> tipo_retorno:\n",
    "    corpo_subalgoritimo\n",
    "    return retorno\n",
    "```\n",
    "\n"
   ]
  },
  {
   "cell_type": "code",
   "execution_count": 111,
   "metadata": {},
   "outputs": [
    {
     "name": "stdout",
     "output_type": "stream",
     "text": [
      "15\n"
     ]
    }
   ],
   "source": [
    "def soma_numeros(n1: float, n2: float) -> float:\n",
    "    return n1 + n2\n",
    "\n",
    "print(soma_numeros(6,9))"
   ]
  },
  {
   "attachments": {},
   "cell_type": "markdown",
   "metadata": {},
   "source": [
    "Utilizando *args"
   ]
  },
  {
   "cell_type": "code",
   "execution_count": 112,
   "metadata": {},
   "outputs": [
    {
     "name": "stdout",
     "output_type": "stream",
     "text": [
      "165\n",
      "56\n",
      "462\n"
     ]
    }
   ],
   "source": [
    "def soma_numeros2(*args) -> float: #*args passa a ser uma lista\n",
    "    soma = 0\n",
    "    for valor in args: # valor vai ser um objeto dentro da lista *args \n",
    "        soma = soma + valor\n",
    "    return soma\n",
    "print(soma_numeros2(56, 76, 33))\n",
    "print(soma_numeros2(12, 44))\n",
    "print(soma_numeros2(66, 87, 44, 32, 78, 44, 67, 44))"
   ]
  },
  {
   "attachments": {},
   "cell_type": "markdown",
   "metadata": {},
   "source": [
    "**Exercício**\n",
    "Utilizando o parâmetro *args, faça uma função que calcula a média de N números."
   ]
  },
  {
   "cell_type": "code",
   "execution_count": 2,
   "metadata": {},
   "outputs": [
    {
     "name": "stdout",
     "output_type": "stream",
     "text": [
      "34.0\n",
      "5.166666666666667\n"
     ]
    }
   ],
   "source": [
    "def media(*args) -> float:\n",
    "    quantidade = 0\n",
    "    soma = 0\n",
    "    for valor in args:\n",
    "        soma = valor + soma\n",
    "        quantidade += 1\n",
    "        conta = soma / quantidade \n",
    "    return conta\n",
    "\n",
    "print(media(32, 34, 36))\n",
    "print(media(4, 5, 6, 2, 5, 9))"
   ]
  },
  {
   "attachments": {},
   "cell_type": "markdown",
   "metadata": {},
   "source": [
    "## Subalgoritimo Encadeado\n",
    "**Exemplo**: Fazer uma função que calcule a média dos checkpoints de um aluno da FIAP"
   ]
  },
  {
   "cell_type": "code",
   "execution_count": 114,
   "metadata": {},
   "outputs": [
    {
     "name": "stdout",
     "output_type": "stream",
     "text": [
      "8.5\n"
     ]
    }
   ],
   "source": [
    "# Função Primária\n",
    "def media_cp(n1: float, n2: float, n3: float) -> float:\n",
    "    # Função Secundária\n",
    "    def menor_valor(n1: float, n2: float, n3: float):\n",
    "        # Corpo Secundário\n",
    "        menor = n1\n",
    "        if n2 < menor:\n",
    "            menor = n2\n",
    "        if n3 < menor:\n",
    "            menor = n3\n",
    "        return menor\n",
    "    # Corpo Primário\n",
    "    media = (n1 + n2 + n3 - menor_valor(n1, n2, n3)) / 2 \n",
    "    return media\n",
    "\n",
    "# Chamada da função\n",
    "print(media_cp(9,5,8))"
   ]
  },
  {
   "attachments": {},
   "cell_type": "markdown",
   "metadata": {},
   "source": [
    "**Exercicio**: fazer uma função que calcule a média de 3 números utilizando o conceito de subalgoritimo primário e secundário."
   ]
  },
  {
   "cell_type": "code",
   "execution_count": 115,
   "metadata": {},
   "outputs": [
    {
     "name": "stdout",
     "output_type": "stream",
     "text": [
      "6.0\n"
     ]
    }
   ],
   "source": [
    "def media(n1: float, n2: float, n3: float) -> float:\n",
    "    def soma(n1: float, n2: float, n3: float) -> float:\n",
    "        return n1 + n2 + n3\n",
    "    return soma(n1, n2, n3) / 3\n",
    "\n",
    "print(media(4, 4, 10))\n"
   ]
  },
  {
   "attachments": {},
   "cell_type": "markdown",
   "metadata": {},
   "source": [
    "# TUPLAS\n",
    "\n",
    "### Tuplas são estruturas de dados similares à listas. A diferença se da pelo fato dela não ser itrável, ou seja, o conteúdo dela é constante e não pode ser editado pelo programador nem pelo usuário.\n",
    "### Enquanto os elementos de uma lista são delimitados entre colchetes, as tuplas são delimitadas entre parênteses"
   ]
  },
  {
   "cell_type": "code",
   "execution_count": 4,
   "metadata": {},
   "outputs": [
    {
     "name": "stdout",
     "output_type": "stream",
     "text": [
      "Lista: [56, 'Fiap', True, 98.65]\n",
      "Tupla: (56, 'Fiap', True, 98.65)\n",
      "Posição 2 da Lista: Fiap\n",
      "Posição 3 da Tupla: 56\n"
     ]
    }
   ],
   "source": [
    "l = list()\n",
    "t = tuple()\n",
    "lista = [56, \"Fiap\", True, 98.65]\n",
    "tupla = (56, \"Fiap\", True, 98.65)\n",
    "print(\"Lista:\", lista)\n",
    "print(\"Tupla:\", tupla)\n",
    "print(f\"Posição 2 da Lista: {lista[1]}\")\n",
    "print(f\"Posição 3 da Tupla: {tupla[0]}\")\n"
   ]
  },
  {
   "attachments": {},
   "cell_type": "markdown",
   "metadata": {},
   "source": [
    "1. Inicie uma tupla com 5 valores e faça um procedimento para exibir o conteúdo desta tupla passada por um parâmetro (elemento a elemento)"
   ]
  },
  {
   "cell_type": "code",
   "execution_count": 117,
   "metadata": {},
   "outputs": [
    {
     "name": "stdout",
     "output_type": "stream",
     "text": [
      "Posição 0 = 65 ou 65\n",
      "Posição 1 = 34 ou 34\n",
      "Posição 2 = 33 ou 33\n",
      "Posição 3 = 87 ou 87\n",
      "Posição 4 = Fiapito ou Fiapito\n",
      "Posição 5 = False ou False\n"
     ]
    }
   ],
   "source": [
    "#Definindo a Tupla\n",
    "#        1   2   3   4      5         6    <------ índice\n",
    "tupla = (65, 34, 33, 87, \"Fiapito\", False)\n",
    "\n",
    "#Criando o procedimento\n",
    "def exibe_tuplas(t: tuple) -> None:\n",
    "    for ind, elem in enumerate(t): #ind + enumerate = índice \n",
    "        print(f\"Posição {ind} = {elem} ou {t[ind]}\")\n",
    "\n",
    "exibe_tuplas(tupla)"
   ]
  },
  {
   "attachments": {},
   "cell_type": "markdown",
   "metadata": {},
   "source": [
    "# Manipulação e fatiamento de strings | listas | tuplas\n",
    "Fatiar lista é selecionar parte dela. <br>\n",
    "**Sintaxe**\n",
    "```\n",
    "lista(início: fim: passo)\n",
    "```\n",
    "> Onde início é o primeiro elemento e fim o último \n",
    "*(**fim** não o inclui)*"
   ]
  },
  {
   "cell_type": "code",
   "execution_count": 118,
   "metadata": {},
   "outputs": [
    {
     "name": "stdout",
     "output_type": "stream",
     "text": [
      "Lista completa = [10, 20, 30, 40, 50, 60, 70, 80, 90, 100]\n",
      "[10, 20, 30, 40, 50, 60, 70, 80, 90, 100] [40, 50, 60, 70]\n",
      "[60, 70, 80, 90, 100]\n",
      "Primeiro elemento: 10 - Último elemento 100\n",
      "[50, 60, 70]\n"
     ]
    }
   ],
   "source": [
    "#         -10  -9  -8  -7  -6  -5  -4  -3  -2  -1   <- índices negativos\n",
    "#           0   1   2   3   4   5   6   7   8   9   <- índices positivos\n",
    "numeros = [10, 20, 30, 40, 50, 60, 70, 80, 90, 100]\n",
    "print(f\"Lista completa = {numeros}\")\n",
    "#O número na primeira posição é considerado na posição 0 e o último número do delimitador é sempre uma posição pra trás\n",
    "new_numeros = numeros[3:7] \n",
    "print(numeros, numeros[3:7])\n",
    "print(numeros[5:20])\n",
    "print(f\"Primeiro elemento: {numeros[0]} - Último elemento {numeros[-1]}\") #Exemplo de número negativo usado em posição de listas\n",
    "print(numeros[-6:-3]) #Sintaxe de fatiação com números negativos"
   ]
  },
  {
   "cell_type": "code",
   "execution_count": 119,
   "metadata": {},
   "outputs": [
    {
     "name": "stdout",
     "output_type": "stream",
     "text": [
      "[20, 30, 40, 50, 60, 70, 80, 90]\n",
      "[20, 50, 80]\n",
      "[10, 30, 50, 70, 90]\n",
      "[100, 90, 80, 70, 60, 50, 40, 30, 20, 10]\n",
      "[10, 20, 30, 40, 50, 60, 70, 80, 90, 100]\n",
      "[80, 70, 60, 50]\n"
     ]
    }
   ],
   "source": [
    "#O terceiro número é a quantidade de passos, ou seja, a quantidade de números que ele irá pular na hora de exibir\n",
    "print(numeros[1:9])\n",
    "print(numeros[1:9:3])\n",
    "print(numeros[::2])\n",
    "print(numeros[::-1]) #Ordem Decrescente\n",
    "print(numeros[::1]) #Ordem Crescente\n",
    "print(numeros[7:3:-1])\n",
    "\n"
   ]
  },
  {
   "attachments": {},
   "cell_type": "markdown",
   "metadata": {},
   "source": [
    "## Fatiando Strings\n",
    "Strings nada mais é do que uma lista de caracteres.<br>\n",
    "Cada caractere correspomde a um elemento da lista string."
   ]
  },
  {
   "cell_type": "code",
   "execution_count": 6,
   "metadata": {},
   "outputs": [
    {
     "name": "stdout",
     "output_type": "stream",
     "text": [
      "Agora veremos como funciona o fatiamento de string\n",
      "A g\n",
      " veremos \n",
      "gnirts ed otnemaitaf o anoicnuf omoc somerev arogA\n",
      "u mcsmrva\n",
      "Aoavrmscm ucoaoftaet esrn\n"
     ]
    }
   ],
   "source": [
    "frase= \"Agora veremos como funciona o fatiamento de string\"\n",
    "print(frase)\n",
    "print(frase[0], frase[-1])\n",
    "print(frase[5:14])\n",
    "print(frase[::-1])\n",
    "print(frase[20:3:-2])\n",
    "print(frase[0::2])"
   ]
  },
  {
   "attachments": {},
   "cell_type": "markdown",
   "metadata": {},
   "source": [
    "**Exercício**\n",
    "1. Faça uma função que conte quantas letras 'a' ou \"A\" existem em uma string passada por parâmetro."
   ]
  },
  {
   "cell_type": "code",
   "execution_count": 7,
   "metadata": {},
   "outputs": [
    {
     "name": "stdout",
     "output_type": "stream",
     "text": [
      "6\n"
     ]
    }
   ],
   "source": [
    "frase2 = \"Astigmatismo não é uma doença da hora\"\n",
    "\n",
    "def verificacao(l: str) -> int:\n",
    "    letra = 0\n",
    "    for letra1 in l:\n",
    "        if letra1 == \"a\" or letra1 == \"A\":\n",
    "            letra += 1 \n",
    "    return letra \n",
    "\n",
    "print(verificacao(frase2))"
   ]
  },
  {
   "attachments": {},
   "cell_type": "markdown",
   "metadata": {},
   "source": [
    "## Métodos para manipulação de strings\n",
    "Agora falaremos exclusivamente de strings (lista de caracteres).<br>\n",
    "Veremos os principais métodos que podem ser aplicados para manipular as strings.\n",
    "\n",
    "### Método: find()\n",
    "Este método procura um trecho de string em uma outra maior, caso encontre, retorna o índice de início da<br> \n",
    "primeira localização, se não encontrar, retorna -1."
   ]
  },
  {
   "cell_type": "code",
   "execution_count": 122,
   "metadata": {},
   "outputs": [
    {
     "name": "stdout",
     "output_type": "stream",
     "text": [
      "8\n",
      "4\n",
      "-1\n",
      "17\n"
     ]
    }
   ],
   "source": [
    "frase = \"Veremos agora os métodos de manipulação de strings.\"\n",
    "print(frase.find(\"agora\")) #Pesquisa a palavra 'agora' na frase\n",
    "print(frase.find(\"m\")) #Pesquisa a primeira letra 'm' na frase\n",
    "print(frase.find(\"listas\")) #Pesquisa uma palavra que não existe na frase\n",
    "print(frase.find(\"m\",10,20)) #Pesquisa a letra 'm' no intervalo de 10 e 20"
   ]
  },
  {
   "attachments": {},
   "cell_type": "markdown",
   "metadata": {},
   "source": [
    "### Método: join(lista_string)\n",
    "O método join() pega uma lista contendo elementos strings e transforma em apenas uma string.<br>\n",
    "Em outras palavras, este método junta strings."
   ]
  },
  {
   "cell_type": "code",
   "execution_count": 123,
   "metadata": {},
   "outputs": [
    {
     "name": "stdout",
     "output_type": "stream",
     "text": [
      "Edson de Oliveira\n",
      "Edson-de-Oliveira\n",
      "Edson,de,Oliveira\n"
     ]
    }
   ],
   "source": [
    "nome = (\"Edson\", \"de\", \"Oliveira\")\n",
    "print(\" \".join(nome)) #Cria uma string com a lista separando por espaço\n",
    "print(\"-\".join(nome)) #Cria uma strin com a lista separada por traços\n",
    "print(\",\".join(nome)) #Cria uma string com a lista separada por vírgulas"
   ]
  },
  {
   "attachments": {},
   "cell_type": "markdown",
   "metadata": {},
   "source": [
    "### Método: split(string_separadora)\n",
    "O método join() pega uma lista contendo elementos strings e transforma em apenas uma string.<br>\n",
    "Em outras palavras, este método junta strings. Repare que ela extrai o texto passado por parâmetro."
   ]
  },
  {
   "cell_type": "code",
   "execution_count": 10,
   "metadata": {},
   "outputs": [
    {
     "name": "stdout",
     "output_type": "stream",
     "text": [
      "['Edson', 'de', 'Oliveira']\n",
      "['Edson d', ' Oliv', 'ira']\n",
      "['Edson ', ' Oliveira']\n"
     ]
    }
   ],
   "source": [
    "nome = (\"Edson de Oliveira\")\n",
    "print(nome.split()) #Tornou a string em uma lista separada por espaço\n",
    "print(nome.split('e')) #Tornou a string em uma lista separada por 'e'\n",
    "print(nome.split('de')) #Tornou a string em uma lista separada por 'de'"
   ]
  },
  {
   "attachments": {},
   "cell_type": "markdown",
   "metadata": {},
   "source": [
    "### Método: replace(procura, troca, cont)\n",
    "Este método substitui em uma string uma substrings especificada por outra 'cont' vezes solicitada."
   ]
  },
  {
   "cell_type": "code",
   "execution_count": 9,
   "metadata": {},
   "outputs": [
    {
     "name": "stdout",
     "output_type": "stream",
     "text": [
      "Edson dE OlivEira\n",
      "Edson De Oliveira\n",
      "Edson_de Oliveira\n"
     ]
    }
   ],
   "source": [
    "nome = \"Edson de Oliveira\"\n",
    "nome_new1 = nome.replace('e', 'E') #Troca os 'e' por 'E'\n",
    "print(nome_new1)\n",
    "nome_new2 = nome.replace('de', 'De') #Troca os 'de' por 'De'\n",
    "print(nome_new2)\n",
    "nome_new3 = nome.replace(' ', '_', 1) #Troca os ' ' por '_'\n",
    "print(nome_new3)"
   ]
  },
  {
   "attachments": {},
   "cell_type": "markdown",
   "metadata": {},
   "source": [
    "### Método: strip()\n",
    "Este método elimina os eventuais espaços que existirem no início e final da string."
   ]
  },
  {
   "cell_type": "code",
   "execution_count": 126,
   "metadata": {},
   "outputs": [
    {
     "name": "stdout",
     "output_type": "stream",
     "text": [
      "O texto '   Strip elimino os espaços   ' tem o tamanho : 30.\n",
      "O texto 'Strip elimino os espaços tem o tamanho 24.\n"
     ]
    }
   ],
   "source": [
    "texto = \"   Strip elimino os espaços   \"\n",
    "tamanho_texto = len(texto)\n",
    "print(f\"O texto '{texto}' tem o tamanho : {tamanho_texto}.\")\n",
    "texto = texto.strip()\n",
    "tamanho_texto_strip = len(texto)\n",
    "print(f\"O texto '{texto} tem o tamanho {tamanho_texto_strip}.\")"
   ]
  },
  {
   "attachments": {},
   "cell_type": "markdown",
   "metadata": {},
   "source": [
    "## Operador de identidade 'in''\n",
    "O operador in retorna True caso o valor comparado esteja contido em uma lista ou False caso não esteja."
   ]
  },
  {
   "cell_type": "code",
   "execution_count": 127,
   "metadata": {},
   "outputs": [
    {
     "name": "stdout",
     "output_type": "stream",
     "text": [
      "'3' está na lista\n"
     ]
    }
   ],
   "source": [
    "num = 3\n",
    "if num in [1, 2, 3, 4, 5]:\n",
    "    print(f\"'{num}' está na lista\")\n",
    "else:\n",
    "    print(f\"'{num}' Não está na lista\")"
   ]
  },
  {
   "attachments": {},
   "cell_type": "markdown",
   "metadata": {},
   "source": [
    "Outro exemplo usando string: "
   ]
  },
  {
   "cell_type": "code",
   "execution_count": 128,
   "metadata": {},
   "outputs": [
    {
     "name": "stdout",
     "output_type": "stream",
     "text": [
      "'de' ESTÁ contido no nome 'Edson de Oliveira'.\n"
     ]
    }
   ],
   "source": [
    "nome = \"Edson de Oliveira\"\n",
    "if \"de\" not in nome:\n",
    "    print(f\"'de' NÃO está contido no nome '{nome}'.\")\n",
    "else:\n",
    "    print(f\"'de' ESTÁ contido no nome '{nome}'.\")"
   ]
  },
  {
   "attachments": {},
   "cell_type": "markdown",
   "metadata": {},
   "source": [
    "**Exercícios:**\n",
    "\n",
    "1. Faça um subalgorítimo que passe uma frase por parâmetro a analise: se ela tiver ponto a retorna, senao acrescenta ponto no final e retorna.\n",
    "\n",
    "2. Faça um subalgoritmo que pegue uma frase e exiba cada palavra em uma linha.\n",
    "\n",
    "3. Dada uma lista preenchida com strings, faça um subalgoritmo que retorne quanto destes elementos podem ser do tipo lógico (True ou False).\n",
    "\n",
    "4. Faça um subalgoritmo que retorne quantos elementos texto podem ser convertidos para inteiro.\n",
    "\n",
    "5. Faça um procedimento que analise uma lista1 (do tipo string) e copie para uma lista2 (do tipo int) os valores inteiros da lista1."
   ]
  },
  {
   "cell_type": "code",
   "execution_count": 129,
   "metadata": {},
   "outputs": [
    {
     "name": "stdout",
     "output_type": "stream",
     "text": [
      "Quero sair dessa aula.\n"
     ]
    }
   ],
   "source": [
    "#Exercício 1\n",
    "frase = \"Quero sair dessa aula\"\n",
    "\n",
    "def verificacao(f: str) -> None:\n",
    "    if \".\" not in frase:\n",
    "        print(f\"{frase}.\")\n",
    "    else:\n",
    "        print(f\"{frase}\")\n",
    "   \n",
    "\n",
    "verificacao(frase)"
   ]
  },
  {
   "cell_type": "code",
   "execution_count": 130,
   "metadata": {},
   "outputs": [
    {
     "name": "stdout",
     "output_type": "stream",
     "text": [
      "Quero\n",
      "sair\n",
      "dessa\n",
      "aula\n"
     ]
    }
   ],
   "source": [
    "#Exercício 2\n",
    "frase = \"Quero sair dessa aula\"\n",
    "\n",
    "def exibir_palavra(frase) -> None:\n",
    "    palavras = frase.split()\n",
    "    for palavra in palavras:\n",
    "        print(palavra)\n",
    "\n",
    "exibir_palavra(frase)\n",
    "\n",
    "        "
   ]
  },
  {
   "cell_type": "code",
   "execution_count": 131,
   "metadata": {},
   "outputs": [
    {
     "name": "stdout",
     "output_type": "stream",
     "text": [
      "2\n"
     ]
    }
   ],
   "source": [
    "#Exercício 3 \n",
    "\n",
    "tupla = (\"Terra\", \"Água\", \"Vento\", \"Fogo\", True, False)\n",
    "\n",
    "def verificacao(t: tuple) -> int:\n",
    "    contador = 0\n",
    "    for elemento in t:\n",
    "        if isinstance(elemento, bool): #isinstance() foi usado para verificar o tipo do objeto desejado no caso para verificar se cada elemento é ou não é booleano\n",
    "            contador += 1\n",
    "    return contador \n",
    "\n",
    "contador_bool = verificacao(tupla)\n",
    "print(contador_bool)"
   ]
  },
  {
   "cell_type": "code",
   "execution_count": 132,
   "metadata": {},
   "outputs": [
    {
     "name": "stdout",
     "output_type": "stream",
     "text": [
      "4\n"
     ]
    }
   ],
   "source": [
    "#Exercício 4 Errado\n",
    "\n",
    "tupla = (\"Fiap\", 2, 3, 5.8, -7, True)\n",
    "\n",
    "def verificacao(n: tuple) -> int:\n",
    "    contador = 0\n",
    "    for elemento in n:\n",
    "        if isinstance(elemento, int): \n",
    "            contador += 1\n",
    "    return contador \n",
    "\n",
    "num_inteiros = verificacao(tupla)\n",
    "print(num_inteiros)"
   ]
  },
  {
   "cell_type": "code",
   "execution_count": 133,
   "metadata": {},
   "outputs": [
    {
     "name": "stdout",
     "output_type": "stream",
     "text": [
      "Lista de inteiros copiada: [7, True, False]\n"
     ]
    }
   ],
   "source": [
    "#Exercício 5 Errado\n",
    "\n",
    "lista_s = [\"Abner\", \"Felipe\", \"Art\", 7, 7.5, True, False]\n",
    "lista_i = []\n",
    "\n",
    "def copia(n) -> None:\n",
    "    for elemento in n:\n",
    "        if isinstance(elemento, int):\n",
    "            lista_i.append(elemento)\n",
    "\n",
    "copia(lista_s)\n",
    "print(\"Lista de inteiros copiada:\", lista_i)\n"
   ]
  },
  {
   "attachments": {},
   "cell_type": "markdown",
   "metadata": {},
   "source": [
    "### Dicionários\n",
    " Dicionários são estruturas de dados que trabalham com keys (campos) ao invés de índices.\n",
    " Colocamos toda estrutura entre chaves. Os campos (keys) e valores (values) são \n",
    " separados por dois pontos(:)."
   ]
  },
  {
   "attachments": {},
   "cell_type": "markdown",
   "metadata": {},
   "source": [
    "### Criando um dicionário vazio"
   ]
  },
  {
   "cell_type": "code",
   "execution_count": 134,
   "metadata": {},
   "outputs": [
    {
     "name": "stdout",
     "output_type": "stream",
     "text": [
      "{'nome': 'Edson de Oliveira', 'idade': 49}\n"
     ]
    }
   ],
   "source": [
    "dados = dict() # ou dados = {}\n",
    "\n",
    "dados = {\n",
    "    'nome':'Edson de Oliveira',\n",
    "    'idade': 49,\n",
    "}\n",
    "\n",
    "\n",
    "\n",
    "print(dados)"
   ]
  },
  {
   "attachments": {},
   "cell_type": "markdown",
   "metadata": {},
   "source": [
    "### Acrescentando uma key (campo)"
   ]
  },
  {
   "cell_type": "code",
   "execution_count": 135,
   "metadata": {},
   "outputs": [
    {
     "name": "stdout",
     "output_type": "stream",
     "text": [
      "{'nome': 'Edson de Oliveira', 'idade': 49}\n",
      "{'nome': 'Edson de Oliveira', 'idade': 49, 'email': 'edson@fiap.com.br'}\n"
     ]
    }
   ],
   "source": [
    "print(dados)\n",
    "dados[\"email\"] = 'edson@fiap.com.br'\n",
    "print(dados)"
   ]
  },
  {
   "attachments": {},
   "cell_type": "markdown",
   "metadata": {},
   "source": [
    "### Excluindo uma key"
   ]
  },
  {
   "cell_type": "code",
   "execution_count": 136,
   "metadata": {},
   "outputs": [
    {
     "data": {
      "text/plain": [
       "\"\\nprint(dados)\\ndel dados['idade']\\nprint(dados)\\n\""
      ]
     },
     "execution_count": 136,
     "metadata": {},
     "output_type": "execute_result"
    }
   ],
   "source": [
    "\"\"\"\n",
    "print(dados)\n",
    "del dados['idade']\n",
    "print(dados)\n",
    "\"\"\""
   ]
  },
  {
   "attachments": {},
   "cell_type": "markdown",
   "metadata": {},
   "source": [
    "### Exibindo os campos, valores"
   ]
  },
  {
   "cell_type": "code",
   "execution_count": 137,
   "metadata": {},
   "outputs": [
    {
     "name": "stdout",
     "output_type": "stream",
     "text": [
      "Nome: Edson de Oliveira\n",
      "Idade: 49\n",
      "Email: edson@fiap.com.br\n"
     ]
    }
   ],
   "source": [
    "dados = {\n",
    "    'nome':'Edson de Oliveira',\n",
    "    'idade': 49,\n",
    "    'email': 'edson@fiap.com.br'\n",
    "}\n",
    "\n",
    "print(f\"Nome: {dados['nome']}\")\n",
    "print(f\"Idade: {dados['idade']}\")\n",
    "print(f\"Email: {dados['email']}\")\n"
   ]
  },
  {
   "attachments": {},
   "cell_type": "markdown",
   "metadata": {},
   "source": [
    "### Métodos relacionados a dicionários\n",
    "#### values()\n",
    "O método values mostra todos os valores contidos no dicionário\n"
   ]
  },
  {
   "cell_type": "code",
   "execution_count": 138,
   "metadata": {},
   "outputs": [
    {
     "name": "stdout",
     "output_type": "stream",
     "text": [
      "Valores do dicionário: dict_values(['Edson de Oliveira', 49, 'edson@fiap.com.br'])\n",
      "['Edson de Oliveira', 49, 'edson@fiap.com.br']\n",
      "Edson de Oliveira\n"
     ]
    }
   ],
   "source": [
    "print(f\"Valores do dicionário: {dados.values()}\")\n",
    "#lista = dados.values() #Criando uma lista com todos os valores dos dados (dicionário)\n",
    "#print(lista)\n",
    "#print(lista[0])\n",
    "lista = list(dados.values()) #Aqui o list é usado para transformar os elementos do dicionário em lista\n",
    "print(lista)\n",
    "print(lista[0])"
   ]
  },
  {
   "attachments": {},
   "cell_type": "markdown",
   "metadata": {},
   "source": [
    "#### keys()\n",
    "O método keys mostra o nome de todos os campos (keys)"
   ]
  },
  {
   "cell_type": "code",
   "execution_count": 139,
   "metadata": {},
   "outputs": [
    {
     "name": "stdout",
     "output_type": "stream",
     "text": [
      "Valores do dicionário: dict_keys(['nome', 'idade', 'email'])\n"
     ]
    }
   ],
   "source": [
    "print(f\"Campos do dicionário: {dados.keys()}\")"
   ]
  },
  {
   "attachments": {},
   "cell_type": "markdown",
   "metadata": {},
   "source": [
    "#### Items()\n",
    "O método items retorna tanto a key quanto o value (campos e valores respectivamente)"
   ]
  },
  {
   "cell_type": "code",
   "execution_count": 140,
   "metadata": {},
   "outputs": [
    {
     "name": "stdout",
     "output_type": "stream",
     "text": [
      "dict_items([('nome', 'Edson de Oliveira'), ('idade', 49), ('email', 'edson@fiap.com.br')])\n",
      "{'nome': 'Edson de Oliveira', 'idade': 49, 'email': 'edson@fiap.com.br'}\n"
     ]
    }
   ],
   "source": [
    "print(dados.items())\n",
    "print(dados)"
   ]
  },
  {
   "attachments": {},
   "cell_type": "markdown",
   "metadata": {},
   "source": [
    "#### Exemplos: "
   ]
  },
  {
   "cell_type": "code",
   "execution_count": 141,
   "metadata": {},
   "outputs": [
    {
     "name": "stdout",
     "output_type": "stream",
     "text": [
      "{'nome': 'Edson de Oliveira', 'idade': 49, 'email': 'edson@fiap.com.br'}\n",
      "\n",
      "Nome.......: Edson de Oliveira\n",
      "Idade......: 49\n",
      "Email......: edson@fiap.com.br\n",
      "\n",
      "O campo 'nome' tem o conteúdo 'Edson de Oliveira' \n",
      "O campo 'idade' tem o conteúdo '49' \n",
      "O campo 'email' tem o conteúdo 'edson@fiap.com.br' \n",
      "\n",
      "nome: Edson de Oliveira\n",
      "idade: 49\n",
      "email: edson@fiap.com.br\n",
      "endereco: Rua SIGA ESTA BANDA\n"
     ]
    }
   ],
   "source": [
    "#Exibindo o dicionário bruto\n",
    "print(dados)\n",
    "\n",
    "#Exibindo elemento a elemento\n",
    "print(f\"\\nNome.......: {dados['nome']}\")\n",
    "print(f\"Idade......: {dados['idade']}\")\n",
    "print(f\"Email......: {dados['email']}\\n\")\n",
    "\n",
    "#Exibindo capturando os elementos\n",
    "for k, v in dados.items():\n",
    "    print(f\"O campo '{k}' tem o conteúdo '{v}' \")\n",
    "\n",
    "print()\n",
    "dados['endereco'] = 'Rua SIGA ESTA BANDA'\n",
    "for k, v in dados.items():\n",
    "    print(f\"{k}: {v}\")"
   ]
  },
  {
   "attachments": {},
   "cell_type": "markdown",
   "metadata": {},
   "source": [
    "## Exercício\n",
    "Crie um dicionário com 5 campos a sua escolha (preferencialmente use tipos diferentes) e faça as seguintes operções:\n",
    "```\n",
    "1 - Exibir todo o conteúdo do dicionário\n",
    "2 - Inserir um campo no dicionário\n",
    "3 - Alterar o valor de um campo\n",
    "4 - Exibir um campo específico\n",
    "5 - Remover um campo específico \n",
    "```\n",
    "Depois de concluir cada exercício, crie um menu (semelhante à exposição acima) que trate as operações\n",
    "\n",
    "░ Considere aplicar todo conceito com subalritmos"
   ]
  },
  {
   "cell_type": "code",
   "execution_count": 142,
   "metadata": {},
   "outputs": [
    {
     "name": "stdout",
     "output_type": "stream",
     "text": [
      "Nome.......: Arthur Cunha\n",
      "Idade......: 18\n",
      "Email......: arthurhcqh@gmail.com\n",
      "Sexo.......: Masculino\n",
      "Letra......: J\n"
     ]
    }
   ],
   "source": [
    "def exibir():\n",
    "    dados = {\n",
    "    'nome':'Arthur Cunha',\n",
    "    'idade': 17,\n",
    "    'email': 'arthurhcqh@gmail.com',\n",
    "    'sexo': 'Masculino',\n",
    "    'numero aleatorio': 34\n",
    "}\n",
    "\n",
    "    dados['letra aleatoria'] = 'J'\n",
    "    del dados['numero aleatorio']\n",
    "\n",
    "    if dados['idade'] == 17:\n",
    "        dados['idade'] = 18\n",
    "\n",
    "    print(f\"Nome.......: {dados['nome']}\")\n",
    "    print(f\"Idade......: {dados['idade']}\")\n",
    "    print(f\"Email......: {dados['email']}\")\n",
    "    print(f\"Sexo.......: {dados['sexo']}\")\n",
    "    print(f\"Letra......: {dados['letra aleatoria']}\")\n",
    "exibir()"
   ]
  },
  {
   "cell_type": "markdown",
   "metadata": {},
   "source": [
    "## Correção Atividade 2 para Python CP Prof"
   ]
  },
  {
   "cell_type": "code",
   "execution_count": null,
   "metadata": {},
   "outputs": [],
   "source": [
    "'''\n",
    "\n",
    "Autor.....: Prof. Edson de Oliveira\n",
    "\n",
    "Data......: 14/11/2022\n",
    "\n",
    "Assunto...: Utilizando listas x dicionários\n",
    "\n",
    "Problema..: Cadastrando e exibindo registros\n",
    "\n",
    "'''\n",
    "\n",
    "# Procedimento que preenche um registro\n",
    "def preenche_registro(t: list, reg: dict) -> None:\n",
    "    # permite ao usuário preencher o dicionário\n",
    "    print(\"PREENCHENDO O REGISTRO\")\n",
    "    reg['cpf'] = input(\"CPF...........: \")\n",
    "    reg['nome'] = input(\"Nome..........: \")\n",
    "    reg['celular'] = input(\"Celular.......: \")\n",
    "    reg['email'] = input(\"E-mail........: \")\n",
    "    # cria uma cópia do ponteiro\n",
    "    t.append(reg.copy())\n",
    "#   t.append(reg)\n",
    "\n",
    "\n",
    "# procedimento que exibe um registro especifico\n",
    "def exibe_registro(t: list, i: int) -> None:\n",
    "    print(f\"REGISTRO {i}:\")\n",
    "    print(\"CPF.......:\" + str(t[i]['cpf']))\n",
    "    print(\"Nome......:\" + t[i]['nome'])\n",
    "    print(\"Celular...:\" + t[i]['celular'])\n",
    "    print(\"E-mail....:\" + t[i]['email'])\n",
    "    print()\n",
    "\n",
    "# Procedimento que exibe todos os registros da tabela\n",
    "def exibe_tabela(t: list) -> None:\n",
    "    qtd_registros = len(t)\n",
    "    for indice in range(qtd_registros):\n",
    "        exibe_registro(t, indice)\n",
    "\n",
    "# ----- PROGRAMA PRINCIPAL\n",
    "# Cria uma 'Tabela' que armazenará um dicionário\n",
    "tabela = list()\n",
    "# cria um dicionário de nome 'contato' vazio\n",
    "contato = dict()\n",
    "\n",
    "while True:\n",
    "\n",
    "    print(\"\"\"\n",
    "\n",
    "0 - SAIR\n",
    "\n",
    "1 - CADASTRAR UM CONTATO\n",
    "\n",
    "2 - EXIBIR OS CONTATOS CADASTRADOS\n",
    "\n",
    "3 - EXIBIR UM CONTATO ESPECÍFICO\n",
    "\n",
    "    \"\"\")\n",
    "\n",
    "    opcao = int(input(\"Digite uma opção desejada...: \"))\n",
    "\n",
    "    match opcao:\n",
    "        case 0:\n",
    "\n",
    "            break\n",
    "        case 1:\n",
    "\n",
    "            preenche_registro(tabela, contato)\n",
    "        case 2:\n",
    "\n",
    "            exibe_tabela(tabela)\n",
    "        case 3:\n",
    "\n",
    "            tot_reg = len(tabela)\n",
    "\n",
    "            ind = int(input(\"Digite o índice...: \"))\n",
    "\n",
    "            if ind > tot_reg - 1 or ind < 0:\n",
    "\n",
    "                print(\"Índice inexistente!\")\n",
    "\n",
    "            else:\n",
    "\n",
    "                exibe_registro(tabela, ind)\n",
    "        case _:\n",
    "\n",
    "            print(\"Opção inválida!\")"
   ]
  },
  {
   "cell_type": "markdown",
   "metadata": {},
   "source": [
    "## Correção Atividade 2 para Python CP Art"
   ]
  },
  {
   "cell_type": "code",
   "execution_count": null,
   "metadata": {},
   "outputs": [],
   "source": [
    "#Arthur Hieda Cunha Rm551882\n",
    "\n",
    "dicionario = {}\n",
    "\n",
    "def preencher(dicionario):\n",
    "    if len(dicionario) >= 4:\n",
    "        print(\"O dicionário já contém 4 registros.\")\n",
    "        return\n",
    "    while len(dicionario) < 4:\n",
    "        cam = input(\"Campo:\")\n",
    "        val = input(\"Valor:\")\n",
    "        dicionario[cam] = val\n",
    "    print(dicionario)\n",
    "\n",
    "def editar_valores(dicionario):\n",
    "    while True:\n",
    "        print(dicionario)\n",
    "        print(\"1 - Deletar\")\n",
    "        print(\"2 - Substituir\")\n",
    "        print(\"3 - Voltar para o menu\")\n",
    "        esc2 = int(input(\"Digite o número da opção desejada:\"))\n",
    "        if esc2 == 1:\n",
    "            cam2 = input(\"Qual campo você gostaria de excluir?\")\n",
    "            if cam2 in dicionario:\n",
    "                del dicionario[cam2]\n",
    "            else:\n",
    "                print(\"Campo não encontrado.\")\n",
    "        elif esc2 == 2:\n",
    "            subcam = input(\"Diga o campo que gostaria de substituir:\")\n",
    "            if subcam in dicionario:\n",
    "                novo_valor = input(\"Digite o novo valor:\")\n",
    "                dicionario[subcam] = novo_valor\n",
    "            else:\n",
    "                print(\"Campo não encontrado.\")\n",
    "        elif esc2 == 3:\n",
    "            return\n",
    "\n",
    "def mostrar(dicionario):\n",
    "    print(dicionario)\n",
    "\n",
    "def menu():\n",
    "    while True:\n",
    "        print(\"MENU:\")\n",
    "        print(\"1 - Preencher registros\")\n",
    "        print(\"2 - Exibir registros\")\n",
    "        print(\"3 - Editar\")\n",
    "        print(\"4 - Sair\")\n",
    "        escolha = int(input(\"Escolha uma opção:\"))\n",
    "        if escolha == 1:\n",
    "            preencher(dicionario)\n",
    "        elif escolha == 2:\n",
    "            mostrar(dicionario)\n",
    "        elif escolha == 3:\n",
    "            if not dicionario:\n",
    "                print(\"O dicionário está vazio.\")\n",
    "                continue\n",
    "            editar = input(\"Deseja alterar algum valor? [S]im ou [N]ão:\")\n",
    "            if editar == \"N\":\n",
    "                menu()\n",
    "            elif editar == \"S\":\n",
    "                editar_valores(dicionario)\n",
    "        elif escolha == 4:\n",
    "            print(\"Saindo do programa.\")\n",
    "            break\n",
    "\n",
    "menu()\n"
   ]
  }
 ],
 "metadata": {
  "kernelspec": {
   "display_name": "Python 3",
   "language": "python",
   "name": "python3"
  },
  "language_info": {
   "codemirror_mode": {
    "name": "ipython",
    "version": 3
   },
   "file_extension": ".py",
   "mimetype": "text/x-python",
   "name": "python",
   "nbconvert_exporter": "python",
   "pygments_lexer": "ipython3",
   "version": "3.10.10"
  },
  "orig_nbformat": 4
 },
 "nbformat": 4,
 "nbformat_minor": 2
}
